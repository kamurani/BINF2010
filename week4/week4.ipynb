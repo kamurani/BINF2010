{
 "cells": [
  {
   "cell_type": "markdown",
   "metadata": {},
   "source": [
    "# Week 04 tutorial"
   ]
  },
  {
   "cell_type": "markdown",
   "metadata": {},
   "source": [
    "#### if statements"
   ]
  },
  {
   "cell_type": "code",
   "execution_count": 167,
   "metadata": {},
   "outputs": [
    {
     "name": "stdout",
     "output_type": "stream",
     "text": [
      "In block 1\n",
      "They are equal!\n"
     ]
    }
   ],
   "source": [
    "x = 2\n",
    "y = 2\n",
    "\n",
    "if x == y:\n",
    "    print('In block 1')\n",
    "    print('They are equal!')\n",
    "\n",
    "elif x > y:\n",
    "    print('In block 2')\n",
    "    print('x is more than y')\n",
    "\n",
    "else:\n",
    "    print('In block 3')\n",
    "    print('y is more than x')"
   ]
  },
  {
   "cell_type": "markdown",
   "metadata": {},
   "source": [
    "### for loops"
   ]
  },
  {
   "cell_type": "code",
   "execution_count": 168,
   "metadata": {},
   "outputs": [
    {
     "name": "stdout",
     "output_type": "stream",
     "text": [
      "num_list =  [0, 1, 2, 3, 4, 5, 6, 7, 8, 9]\n"
     ]
    }
   ],
   "source": [
    "# Define list of numbers\n",
    "num_list = list(range(10))\n",
    "print('num_list = ', num_list)\n",
    "\n"
   ]
  },
  {
   "cell_type": "code",
   "execution_count": null,
   "metadata": {},
   "outputs": [],
   "source": []
  },
  {
   "cell_type": "code",
   "execution_count": 171,
   "metadata": {},
   "outputs": [
    {
     "name": "stdout",
     "output_type": "stream",
     "text": [
      "-> 0\n",
      "0\n",
      "-> 1\n",
      "2\n",
      "-> 2\n",
      "4\n",
      "-> 3\n",
      "6\n",
      "-> 4\n",
      "8\n",
      "-> 5\n",
      "10\n",
      "-> 6\n",
      "12\n",
      "-> 7\n",
      "14\n",
      "-> 8\n",
      "16\n",
      "-> 9\n",
      "18\n"
     ]
    }
   ],
   "source": [
    "# Print these numbers one by one \n",
    "for n in num_list:\n",
    "    print('->', n)  \n",
    "    print(n*2)"
   ]
  },
  {
   "cell_type": "code",
   "execution_count": 172,
   "metadata": {},
   "outputs": [
    {
     "data": {
      "text/plain": [
       "str"
      ]
     },
     "execution_count": 172,
     "metadata": {},
     "output_type": "execute_result"
    }
   ],
   "source": [
    "dna = 'AACTTGGTTAAATTATGGG'\n",
    "type(dna)"
   ]
  },
  {
   "cell_type": "code",
   "execution_count": 175,
   "metadata": {},
   "outputs": [
    {
     "name": "stdout",
     "output_type": "stream",
     "text": [
      "-> A -> A -> C -> T -> T -> G -> G -> T -> T -> A -> A -> A -> T -> T -> A -> T -> G -> G -> G "
     ]
    }
   ],
   "source": [
    "for c in dna:\n",
    "    print('->', c, end=\" \")"
   ]
  },
  {
   "cell_type": "code",
   "execution_count": 176,
   "metadata": {},
   "outputs": [
    {
     "data": {
      "text/plain": [
       "'AACTTGGTTAAATTATGGG'"
      ]
     },
     "execution_count": 176,
     "metadata": {},
     "output_type": "execute_result"
    }
   ],
   "source": [
    "dna"
   ]
  },
  {
   "cell_type": "code",
   "execution_count": 177,
   "metadata": {},
   "outputs": [
    {
     "name": "stdout",
     "output_type": "stream",
     "text": [
      "dna_list = ['A', 'A', 'C', 'T', 'T', 'G', 'G', 'T', 'T', 'A', 'A', 'A', 'T', 'T', 'A', 'T', 'G', 'G', 'G']\n"
     ]
    }
   ],
   "source": [
    "dna_list = []\n",
    "for c in dna:\n",
    "    dna_list.append(c)\n",
    "print('dna_list =', dna_list)"
   ]
  },
  {
   "cell_type": "code",
   "execution_count": 178,
   "metadata": {},
   "outputs": [
    {
     "name": "stdout",
     "output_type": "stream",
     "text": [
      "simple_list =  ['G', 'r', 'i', 'm', 'e', 's']\n"
     ]
    }
   ],
   "source": [
    "name = \"Grimes\"\n",
    "simple_list = [c for c in name]\n",
    "print('simple_list = ', simple_list)"
   ]
  },
  {
   "cell_type": "code",
   "execution_count": 181,
   "metadata": {},
   "outputs": [
    {
     "name": "stdout",
     "output_type": "stream",
     "text": [
      "The letter is c and the index is 0\n",
      "The letter is a and the index is 1\n",
      "The letter is m and the index is 2\n"
     ]
    }
   ],
   "source": [
    "\n",
    "name = \"cam\"\n",
    "i = 0\n",
    "for character in name:\n",
    "    print(f\"The letter is {character} and the index is {i}\")\n",
    "    i += 1 "
   ]
  },
  {
   "cell_type": "code",
   "execution_count": 182,
   "metadata": {},
   "outputs": [
    {
     "name": "stdout",
     "output_type": "stream",
     "text": [
      "name[0] = c\n",
      "name[1] = a\n",
      "name[2] = m\n"
     ]
    }
   ],
   "source": [
    "# Alternate way with enumerate: \n",
    "for i, c in enumerate(name):\n",
    "    print(f\"name[{i}] = {c}\")\n"
   ]
  },
  {
   "cell_type": "code",
   "execution_count": 183,
   "metadata": {},
   "outputs": [
    {
     "name": "stdout",
     "output_type": "stream",
     "text": [
      "0\n",
      "1\n",
      "2\n",
      "3\n",
      "4\n",
      "5\n",
      "6\n",
      "7\n",
      "8\n",
      "9\n"
     ]
    }
   ],
   "source": [
    "for x in range(10):\n",
    "    print(x)"
   ]
  },
  {
   "cell_type": "markdown",
   "metadata": {},
   "source": [
    "### while loops\n"
   ]
  },
  {
   "cell_type": "code",
   "execution_count": 185,
   "metadata": {},
   "outputs": [
    {
     "name": "stdout",
     "output_type": "stream",
     "text": [
      "1\n",
      "2\n",
      "3\n",
      "4\n",
      "5\n",
      "6\n",
      "7\n",
      "8\n",
      "9\n",
      "10\n"
     ]
    }
   ],
   "source": [
    "i = 1\n",
    "n = 10\n",
    "while (i <= n):\n",
    "    print(i)\n",
    "    i = i + 1\n",
    "   "
   ]
  },
  {
   "cell_type": "markdown",
   "metadata": {},
   "source": [
    "### vectorised computations "
   ]
  },
  {
   "cell_type": "code",
   "execution_count": 186,
   "metadata": {},
   "outputs": [
    {
     "data": {
      "text/plain": [
       "array([ 0,  1,  2,  3,  4,  5,  6,  7,  8,  9, 10, 11, 12, 13, 14, 15, 16,\n",
       "       17, 18, 19, 20, 21, 22, 23, 24, 25, 26, 27, 28, 29, 30, 31, 32, 33,\n",
       "       34, 35, 36, 37, 38, 39, 40, 41, 42, 43, 44, 45, 46, 47, 48, 49, 50,\n",
       "       51, 52, 53, 54, 55, 56, 57, 58, 59, 60, 61, 62, 63, 64, 65, 66, 67,\n",
       "       68, 69, 70, 71, 72, 73, 74, 75, 76, 77, 78, 79, 80, 81, 82, 83, 84,\n",
       "       85, 86, 87, 88, 89, 90, 91, 92, 93, 94, 95, 96, 97, 98, 99])"
      ]
     },
     "execution_count": 186,
     "metadata": {},
     "output_type": "execute_result"
    }
   ],
   "source": [
    "import numpy as np\n",
    "N = 100\n",
    "ns = np.arange(N)\n",
    "ns"
   ]
  },
  {
   "cell_type": "code",
   "execution_count": 187,
   "metadata": {},
   "outputs": [
    {
     "data": {
      "text/plain": [
       "array([  5,   6,   7,   8,   9,  10,  11,  12,  13,  14,  15,  16,  17,\n",
       "        18,  19,  20,  21,  22,  23,  24,  25,  26,  27,  28,  29,  30,\n",
       "        31,  32,  33,  34,  35,  36,  37,  38,  39,  40,  41,  42,  43,\n",
       "        44,  45,  46,  47,  48,  49,  50,  51,  52,  53,  54,  55,  56,\n",
       "        57,  58,  59,  60,  61,  62,  63,  64,  65,  66,  67,  68,  69,\n",
       "        70,  71,  72,  73,  74,  75,  76,  77,  78,  79,  80,  81,  82,\n",
       "        83,  84,  85,  86,  87,  88,  89,  90,  91,  92,  93,  94,  95,\n",
       "        96,  97,  98,  99, 100, 101, 102, 103, 104])"
      ]
     },
     "execution_count": 187,
     "metadata": {},
     "output_type": "execute_result"
    }
   ],
   "source": [
    "x = ns + 5  # add 5 to each element without having to loop through \n",
    "x"
   ]
  },
  {
   "cell_type": "code",
   "execution_count": 188,
   "metadata": {},
   "outputs": [
    {
     "data": {
      "text/plain": [
       "array([  0,   2,   4,   6,   8,  10,  12,  14,  16,  18,  20,  22,  24,\n",
       "        26,  28,  30,  32,  34,  36,  38,  40,  42,  44,  46,  48,  50,\n",
       "        52,  54,  56,  58,  60,  62,  64,  66,  68,  70,  72,  74,  76,\n",
       "        78,  80,  82,  84,  86,  88,  90,  92,  94,  96,  98, 100, 102,\n",
       "       104, 106, 108, 110, 112, 114, 116, 118, 120, 122, 124, 126, 128,\n",
       "       130, 132, 134, 136, 138, 140, 142, 144, 146, 148, 150, 152, 154,\n",
       "       156, 158, 160, 162, 164, 166, 168, 170, 172, 174, 176, 178, 180,\n",
       "       182, 184, 186, 188, 190, 192, 194, 196, 198])"
      ]
     },
     "execution_count": 188,
     "metadata": {},
     "output_type": "execute_result"
    }
   ],
   "source": [
    "ns * 2  # multiply each element by 2"
   ]
  },
  {
   "cell_type": "code",
   "execution_count": 189,
   "metadata": {},
   "outputs": [
    {
     "data": {
      "text/plain": [
       "(4950, 99, 0, 99)"
      ]
     },
     "execution_count": 189,
     "metadata": {},
     "output_type": "execute_result"
    }
   ],
   "source": [
    "ns.sum(), ns.max(), ns.min(), ns.argmax()"
   ]
  },
  {
   "cell_type": "markdown",
   "metadata": {},
   "source": [
    "### functions"
   ]
  },
  {
   "cell_type": "markdown",
   "metadata": {},
   "source": [
    "The simplest form of a function is just a block of code that we might want to use several times without typing it all out again."
   ]
  },
  {
   "cell_type": "code",
   "execution_count": 190,
   "metadata": {},
   "outputs": [],
   "source": [
    "# Function \"Definition\"\n",
    "def my_function():\n",
    "  print(\"Hello from a function\") "
   ]
  },
  {
   "cell_type": "code",
   "execution_count": 191,
   "metadata": {},
   "outputs": [
    {
     "name": "stdout",
     "output_type": "stream",
     "text": [
      "Hello from a function\n",
      "Hello from a function\n"
     ]
    }
   ],
   "source": [
    "# Calling a function: \n",
    "my_function()\n",
    "my_function()\n",
    "\n",
    "# note that nothing goes in the brackets."
   ]
  },
  {
   "cell_type": "markdown",
   "metadata": {},
   "source": [
    "We can also give the function information (as \"arguments\") so it can do something with it. "
   ]
  },
  {
   "cell_type": "code",
   "execution_count": 197,
   "metadata": {},
   "outputs": [],
   "source": [
    "def say_hello(name = \"everyone\"):\n",
    "    greeting = \"hello \" + name\n",
    "    print(greeting)\n"
   ]
  },
  {
   "cell_type": "code",
   "execution_count": 198,
   "metadata": {},
   "outputs": [
    {
     "name": "stdout",
     "output_type": "stream",
     "text": [
      "hello BINF\n"
     ]
    }
   ],
   "source": [
    "say_hello(\"BINF\")"
   ]
  },
  {
   "cell_type": "code",
   "execution_count": 199,
   "metadata": {},
   "outputs": [
    {
     "name": "stdout",
     "output_type": "stream",
     "text": [
      "hello everyone\n"
     ]
    }
   ],
   "source": [
    "say_hello()"
   ]
  },
  {
   "cell_type": "markdown",
   "metadata": {},
   "source": [
    "How can we avoid this failing?"
   ]
  },
  {
   "cell_type": "code",
   "execution_count": null,
   "metadata": {},
   "outputs": [],
   "source": []
  },
  {
   "cell_type": "code",
   "execution_count": 206,
   "metadata": {},
   "outputs": [
    {
     "name": "stdout",
     "output_type": "stream",
     "text": [
      "3\n"
     ]
    }
   ],
   "source": [
    "a = 5 \n",
    "b = 1 \n",
    "\n",
    "def add_two_numbers(x1, x2):      # \"declaration\" tells us: function's name, what it takes in (arguments), what it spits back (return)\n",
    "    a = 2\n",
    "    x = a + b            # \"return\" line: sends back the result so that we can do `something = func(a, b)`\n",
    "    return x \n",
    "\n",
    "\n",
    "print(add_two_numbers(4, 3)) # what will this give?"
   ]
  },
  {
   "cell_type": "code",
   "execution_count": null,
   "metadata": {},
   "outputs": [],
   "source": [
    "add_two_numbers(a, b) # add_two_numbers(5, 1)"
   ]
  },
  {
   "cell_type": "code",
   "execution_count": 209,
   "metadata": {},
   "outputs": [
    {
     "name": "stdout",
     "output_type": "stream",
     "text": [
      "different value\n"
     ]
    }
   ],
   "source": [
    "# variable names \n",
    "x = \"hello\"\n",
    "def f():\n",
    "    x = \"different value\"\n",
    "    print(x) \n",
    "\n",
    "f() \n",
    "# what will be output?"
   ]
  },
  {
   "cell_type": "code",
   "execution_count": 210,
   "metadata": {},
   "outputs": [
    {
     "data": {
      "text/plain": [
       "'hello'"
      ]
     },
     "execution_count": 210,
     "metadata": {},
     "output_type": "execute_result"
    }
   ],
   "source": [
    "x # ?"
   ]
  },
  {
   "cell_type": "markdown",
   "metadata": {},
   "source": [
    "#### Factorial example"
   ]
  },
  {
   "cell_type": "code",
   "execution_count": 218,
   "metadata": {},
   "outputs": [],
   "source": [
    "# The function definition:\n",
    "def n_factorial(n): \n",
    "    # Check that n is of the right type and form\n",
    "    assert isinstance(n, int), 'Input is not an integer'\n",
    "    assert n >= 0, 'Input needs to be positive'\n",
    "    assert n <= 1000, 'Intput is too large!'\n",
    "\n",
    "    # Initialize return variable\n",
    "    val = 1\n",
    "\n",
    "    # Loop over n\n",
    "    for i in range(1, n+1):\n",
    "        val *= i\n",
    "\n",
    "    return val\n"
   ]
  },
  {
   "cell_type": "code",
   "execution_count": 213,
   "metadata": {},
   "outputs": [
    {
     "ename": "AssertionError",
     "evalue": "Intput is too large!",
     "output_type": "error",
     "traceback": [
      "\u001b[0;31m---------------------------------------------------------------------------\u001b[0m",
      "\u001b[0;31mAssertionError\u001b[0m                            Traceback (most recent call last)",
      "\u001b[1;32m/Users/cameronmcmenamie/tutorials/BINF2010/week4/week4.ipynb Cell 39\u001b[0m line \u001b[0;36m1\n\u001b[0;32m----> <a href='vscode-notebook-cell:/Users/cameronmcmenamie/tutorials/BINF2010/week4/week4.ipynb#Y234sZmlsZQ%3D%3D?line=0'>1</a>\u001b[0m n_factorial(\u001b[39m1001\u001b[39;49m)\n",
      "\u001b[1;32m/Users/cameronmcmenamie/tutorials/BINF2010/week4/week4.ipynb Cell 39\u001b[0m line \u001b[0;36m7\n\u001b[1;32m      <a href='vscode-notebook-cell:/Users/cameronmcmenamie/tutorials/BINF2010/week4/week4.ipynb#Y234sZmlsZQ%3D%3D?line=4'>5</a>\u001b[0m \u001b[39massert\u001b[39;00m \u001b[39misinstance\u001b[39m(n, \u001b[39mint\u001b[39m), \u001b[39m'\u001b[39m\u001b[39mInput is not an integer\u001b[39m\u001b[39m'\u001b[39m\n\u001b[1;32m      <a href='vscode-notebook-cell:/Users/cameronmcmenamie/tutorials/BINF2010/week4/week4.ipynb#Y234sZmlsZQ%3D%3D?line=5'>6</a>\u001b[0m \u001b[39massert\u001b[39;00m n \u001b[39m>\u001b[39m\u001b[39m=\u001b[39m \u001b[39m0\u001b[39m, \u001b[39m'\u001b[39m\u001b[39mInput needs to be positive\u001b[39m\u001b[39m'\u001b[39m\n\u001b[0;32m----> <a href='vscode-notebook-cell:/Users/cameronmcmenamie/tutorials/BINF2010/week4/week4.ipynb#Y234sZmlsZQ%3D%3D?line=6'>7</a>\u001b[0m \u001b[39massert\u001b[39;00m n \u001b[39m<\u001b[39m\u001b[39m=\u001b[39m \u001b[39m1000\u001b[39m, \u001b[39m'\u001b[39m\u001b[39mIntput is too large!\u001b[39m\u001b[39m'\u001b[39m\n\u001b[1;32m      <a href='vscode-notebook-cell:/Users/cameronmcmenamie/tutorials/BINF2010/week4/week4.ipynb#Y234sZmlsZQ%3D%3D?line=8'>9</a>\u001b[0m \u001b[39m# Initialize return variable\u001b[39;00m\n\u001b[1;32m     <a href='vscode-notebook-cell:/Users/cameronmcmenamie/tutorials/BINF2010/week4/week4.ipynb#Y234sZmlsZQ%3D%3D?line=9'>10</a>\u001b[0m val \u001b[39m=\u001b[39m \u001b[39m1\u001b[39m\n",
      "\u001b[0;31mAssertionError\u001b[0m: Intput is too large!"
     ]
    }
   ],
   "source": [
    "n_factorial(1001)"
   ]
  },
  {
   "cell_type": "code",
   "execution_count": 215,
   "metadata": {},
   "outputs": [
    {
     "data": {
      "text/plain": [
       "120"
      ]
     },
     "execution_count": 215,
     "metadata": {},
     "output_type": "execute_result"
    }
   ],
   "source": [
    "n_factorial(5)"
   ]
  },
  {
   "cell_type": "code",
   "execution_count": 216,
   "metadata": {},
   "outputs": [
    {
     "data": {
      "text/plain": [
       "11"
      ]
     },
     "execution_count": 216,
     "metadata": {},
     "output_type": "execute_result"
    }
   ],
   "source": [
    "i # ?"
   ]
  },
  {
   "cell_type": "code",
   "execution_count": null,
   "metadata": {},
   "outputs": [],
   "source": [
    "n_factorial(10)"
   ]
  },
  {
   "cell_type": "code",
   "execution_count": null,
   "metadata": {},
   "outputs": [],
   "source": [
    "i # ?"
   ]
  },
  {
   "cell_type": "code",
   "execution_count": null,
   "metadata": {},
   "outputs": [],
   "source": [
    "n_factorial(0)"
   ]
  },
  {
   "cell_type": "code",
   "execution_count": null,
   "metadata": {},
   "outputs": [],
   "source": [
    "i # ?"
   ]
  },
  {
   "cell_type": "code",
   "execution_count": null,
   "metadata": {},
   "outputs": [],
   "source": [
    "n_factorial(10001)"
   ]
  },
  {
   "cell_type": "markdown",
   "metadata": {},
   "source": [
    "### Command line input"
   ]
  },
  {
   "cell_type": "code",
   "execution_count": null,
   "metadata": {},
   "outputs": [],
   "source": [
    "import sys\n",
    "print('Number of arguments:', len(sys.argv), 'arguments.')\n",
    "print('Argument List:', str(sys.argv))"
   ]
  },
  {
   "cell_type": "markdown",
   "metadata": {},
   "source": [
    "### Reading / writing files"
   ]
  },
  {
   "cell_type": "code",
   "execution_count": null,
   "metadata": {},
   "outputs": [],
   "source": [
    "f = open(\"DatasaurusDozen.txt\", \"r\")\n",
    "print(f.readline()) # per line\n",
    "f.close()\n"
   ]
  },
  {
   "cell_type": "code",
   "execution_count": null,
   "metadata": {},
   "outputs": [],
   "source": [
    "f = open(\"DatasaurusDozen.txt\", \"r\")\n",
    "print(f.read()) # whole document \n",
    "f.close()"
   ]
  },
  {
   "cell_type": "code",
   "execution_count": null,
   "metadata": {},
   "outputs": [],
   "source": [
    "# Question: what if we moved the text file to a different directory?"
   ]
  },
  {
   "cell_type": "code",
   "execution_count": null,
   "metadata": {},
   "outputs": [],
   "source": [
    "# Improvement to opening files .. "
   ]
  },
  {
   "cell_type": "markdown",
   "metadata": {},
   "source": [
    "### Reading files with pandas"
   ]
  },
  {
   "cell_type": "code",
   "execution_count": null,
   "metadata": {},
   "outputs": [],
   "source": [
    "import pandas as pd\n",
    "df = pd.read_csv('data.csv')\n",
    "#print(df.to_string())"
   ]
  },
  {
   "cell_type": "code",
   "execution_count": null,
   "metadata": {},
   "outputs": [],
   "source": [
    "df_js = pd.read_json('data.json')\n",
    "print(df_js.to_string())"
   ]
  },
  {
   "cell_type": "code",
   "execution_count": null,
   "metadata": {},
   "outputs": [],
   "source": [
    "df.head()"
   ]
  },
  {
   "cell_type": "code",
   "execution_count": null,
   "metadata": {},
   "outputs": [],
   "source": [
    "df.tail()"
   ]
  },
  {
   "cell_type": "code",
   "execution_count": null,
   "metadata": {},
   "outputs": [],
   "source": [
    "\n",
    "new_df = df.dropna()\n",
    "df.dropna(inplace = True) # replaces within the same dataframe"
   ]
  },
  {
   "cell_type": "code",
   "execution_count": null,
   "metadata": {},
   "outputs": [],
   "source": [
    "df.tail()"
   ]
  },
  {
   "cell_type": "code",
   "execution_count": null,
   "metadata": {},
   "outputs": [],
   "source": [
    "# Drop rows if a particular set of columns have missing values\n",
    "df.dropna(subset=['Date'], inplace = True)"
   ]
  },
  {
   "cell_type": "code",
   "execution_count": null,
   "metadata": {},
   "outputs": [],
   "source": [
    "df.fillna(130, inplace = True) # replace NAs with fill value\n",
    "df[\"Calories\"].fillna(130, inplace = True) # replace values in the column \"Calories\" with fill value \n",
    "x = df[\"Calories\"].mean()\n",
    "df[\"Calories\"].fillna(x, inplace = True) # replace with mean"
   ]
  },
  {
   "cell_type": "code",
   "execution_count": null,
   "metadata": {},
   "outputs": [],
   "source": [
    "#df['Date'] = pd.to_datetime(df['Date'], format=\"mixed\", yearfirst=True)   \n",
    "#print(df.to_string())"
   ]
  },
  {
   "cell_type": "code",
   "execution_count": null,
   "metadata": {},
   "outputs": [],
   "source": [
    "# Set values above a max to the max\n",
    "for x in df.index:\n",
    "  if df.loc[x, \"Duration\"] > 120:\n",
    "    df.loc[x, \"Duration\"] = 120"
   ]
  },
  {
   "cell_type": "code",
   "execution_count": null,
   "metadata": {},
   "outputs": [],
   "source": [
    "# Drop rows with values above a max\n",
    "for x in df.index:\n",
    "  if df.loc[x, \"Duration\"] > 120:\n",
    "    df.drop(x, inplace = True)"
   ]
  },
  {
   "cell_type": "code",
   "execution_count": null,
   "metadata": {},
   "outputs": [],
   "source": [
    "# Drop duplicate rows \n",
    "print(df.duplicated())\n",
    "df.drop_duplicates(inplace = True)"
   ]
  },
  {
   "cell_type": "markdown",
   "metadata": {},
   "source": [
    "## Biopython"
   ]
  },
  {
   "cell_type": "code",
   "execution_count": null,
   "metadata": {},
   "outputs": [],
   "source": [
    "import Bio"
   ]
  },
  {
   "cell_type": "code",
   "execution_count": null,
   "metadata": {},
   "outputs": [],
   "source": [
    "from Bio.Seq import Seq\n",
    "my_seq = Seq(\"CATGTAGACTAG\")\n",
    "\n",
    "# print out some details about it\n",
    "print(\"seq %s is %i bases long\" % (my_seq, len(my_seq)))"
   ]
  },
  {
   "cell_type": "markdown",
   "metadata": {},
   "source": [
    "### Reading and writing sequence files"
   ]
  },
  {
   "cell_type": "code",
   "execution_count": null,
   "metadata": {},
   "outputs": [],
   "source": [
    "from Bio import SeqIO\n",
    "from Bio.Seq import Seq\n",
    "from Bio.SeqRecord import SeqRecord\n",
    "\n",
    "record = SeqRecord(\n",
    "    Seq(\"MKQHKAMIVALIVICITAVVAALVTRKDLCEVHIRTGQTEVAVF\"),\n",
    "    id=\"YP_025292.1\",\n",
    "    name=\"HokC\",\n",
    "    description=\"toxic membrane protein, small\",\n",
    ")\n",
    "print(record)\n",
    "# As FASTA file \n",
    "Bio.SeqIO.write(record, \"HokC.fasta\", \"fasta\")"
   ]
  },
  {
   "cell_type": "markdown",
   "metadata": {},
   "source": [
    "### Read in FASTA file"
   ]
  },
  {
   "cell_type": "code",
   "execution_count": null,
   "metadata": {},
   "outputs": [],
   "source": [
    "filename = ? "
   ]
  },
  {
   "cell_type": "code",
   "execution_count": null,
   "metadata": {},
   "outputs": [],
   "source": [
    "from Bio import SeqIO\n",
    "for record in SeqIO.parse(filename, \"fasta\"):\n",
    "    sequence = record.seq\n"
   ]
  },
  {
   "cell_type": "markdown",
   "metadata": {},
   "source": [
    "### Using E-utils"
   ]
  },
  {
   "cell_type": "code",
   "execution_count": 219,
   "metadata": {},
   "outputs": [],
   "source": [
    "from Bio import Entrez\n",
    "Entrez.email = \"my.email@unsw.edu.au\"\n",
    "Entrez.tool = \"my_script.py\""
   ]
  },
  {
   "cell_type": "code",
   "execution_count": 220,
   "metadata": {},
   "outputs": [
    {
     "data": {
      "text/plain": [
       "{'Count': '1', 'RetMax': '1', 'RetStart': '0', 'IdList': ['9606'], 'TranslationSet': [], 'TranslationStack': [{'Term': 'Human[All Names]', 'Field': 'All Names', 'Count': '1', 'Explode': 'N'}, 'GROUP'], 'QueryTranslation': 'Human[All Names]'}"
      ]
     },
     "execution_count": 220,
     "metadata": {},
     "output_type": "execute_result"
    }
   ],
   "source": [
    "handle = Entrez.esearch(db=\"taxonomy\", term=\"Human\")\n",
    "record = Entrez.read(handle)\n",
    "record"
   ]
  },
  {
   "cell_type": "code",
   "execution_count": 221,
   "metadata": {},
   "outputs": [
    {
     "data": {
      "text/plain": [
       "Bio.Entrez.Parser.DictionaryElement"
      ]
     },
     "execution_count": 221,
     "metadata": {},
     "output_type": "execute_result"
    }
   ],
   "source": [
    "type(record)  # ?"
   ]
  },
  {
   "cell_type": "code",
   "execution_count": 222,
   "metadata": {},
   "outputs": [],
   "source": [
    "taxid = record['IdList'][0] # Now we have the taxid for human "
   ]
  },
  {
   "cell_type": "code",
   "execution_count": 223,
   "metadata": {},
   "outputs": [],
   "source": [
    "handle = Entrez.efetch(db=\"taxonomy\", id=taxid, retmode=\"xml\")\n",
    "record = Entrez.read(handle)"
   ]
  },
  {
   "cell_type": "code",
   "execution_count": 224,
   "metadata": {},
   "outputs": [
    {
     "data": {
      "text/plain": [
       "[{'TaxId': '9606', 'ScientificName': 'Homo sapiens', 'OtherNames': {'Synonym': [], 'Includes': [], 'GenbankSynonym': [], 'GenbankAnamorph': [], 'EquivalentName': [], 'Acronym': [], 'CommonName': [], 'Misnomer': [], 'Misspelling': [], 'Inpart': [], 'Teleomorph': [], 'Name': [{'ClassCDE': 'authority', 'DispName': 'Homo sapiens Linnaeus, 1758'}, {'ClassCDE': 'misspelling', 'DispName': 'Home sapiens'}, {'ClassCDE': 'misspelling', 'DispName': 'Homo sampiens'}, {'ClassCDE': 'misspelling', 'DispName': 'Homo sapeins'}, {'ClassCDE': 'misspelling', 'DispName': 'Homo sapian'}, {'ClassCDE': 'misspelling', 'DispName': 'Homo sapians'}, {'ClassCDE': 'misspelling', 'DispName': 'Homo sapien'}, {'ClassCDE': 'misspelling', 'DispName': 'Homo sapience'}, {'ClassCDE': 'misspelling', 'DispName': 'Homo sapiense'}, {'ClassCDE': 'misspelling', 'DispName': 'Homo sapients'}, {'ClassCDE': 'misspelling', 'DispName': 'Homo sapines'}, {'ClassCDE': 'misspelling', 'DispName': 'Homo spaiens'}, {'ClassCDE': 'misspelling', 'DispName': 'Homo spiens'}, {'ClassCDE': 'misspelling', 'DispName': 'Humo sapiens'}], 'Anamorph': [], 'GenbankCommonName': 'human'}, 'ParentTaxId': '9605', 'Rank': 'species', 'Division': 'Primates', 'GeneticCode': {'GCId': '1', 'GCName': 'Standard'}, 'MitoGeneticCode': {'MGCId': '2', 'MGCName': 'Vertebrate Mitochondrial'}, 'Lineage': 'cellular organisms; Eukaryota; Opisthokonta; Metazoa; Eumetazoa; Bilateria; Deuterostomia; Chordata; Craniata; Vertebrata; Gnathostomata; Teleostomi; Euteleostomi; Sarcopterygii; Dipnotetrapodomorpha; Tetrapoda; Amniota; Mammalia; Theria; Eutheria; Boreoeutheria; Euarchontoglires; Primates; Haplorrhini; Simiiformes; Catarrhini; Hominoidea; Hominidae; Homininae; Homo', 'LineageEx': [{'TaxId': '131567', 'ScientificName': 'cellular organisms', 'Rank': 'no rank'}, {'TaxId': '2759', 'ScientificName': 'Eukaryota', 'Rank': 'superkingdom'}, {'TaxId': '33154', 'ScientificName': 'Opisthokonta', 'Rank': 'clade'}, {'TaxId': '33208', 'ScientificName': 'Metazoa', 'Rank': 'kingdom'}, {'TaxId': '6072', 'ScientificName': 'Eumetazoa', 'Rank': 'clade'}, {'TaxId': '33213', 'ScientificName': 'Bilateria', 'Rank': 'clade'}, {'TaxId': '33511', 'ScientificName': 'Deuterostomia', 'Rank': 'clade'}, {'TaxId': '7711', 'ScientificName': 'Chordata', 'Rank': 'phylum'}, {'TaxId': '89593', 'ScientificName': 'Craniata', 'Rank': 'subphylum'}, {'TaxId': '7742', 'ScientificName': 'Vertebrata', 'Rank': 'clade'}, {'TaxId': '7776', 'ScientificName': 'Gnathostomata', 'Rank': 'clade'}, {'TaxId': '117570', 'ScientificName': 'Teleostomi', 'Rank': 'clade'}, {'TaxId': '117571', 'ScientificName': 'Euteleostomi', 'Rank': 'clade'}, {'TaxId': '8287', 'ScientificName': 'Sarcopterygii', 'Rank': 'superclass'}, {'TaxId': '1338369', 'ScientificName': 'Dipnotetrapodomorpha', 'Rank': 'clade'}, {'TaxId': '32523', 'ScientificName': 'Tetrapoda', 'Rank': 'clade'}, {'TaxId': '32524', 'ScientificName': 'Amniota', 'Rank': 'clade'}, {'TaxId': '40674', 'ScientificName': 'Mammalia', 'Rank': 'class'}, {'TaxId': '32525', 'ScientificName': 'Theria', 'Rank': 'clade'}, {'TaxId': '9347', 'ScientificName': 'Eutheria', 'Rank': 'clade'}, {'TaxId': '1437010', 'ScientificName': 'Boreoeutheria', 'Rank': 'clade'}, {'TaxId': '314146', 'ScientificName': 'Euarchontoglires', 'Rank': 'superorder'}, {'TaxId': '9443', 'ScientificName': 'Primates', 'Rank': 'order'}, {'TaxId': '376913', 'ScientificName': 'Haplorrhini', 'Rank': 'suborder'}, {'TaxId': '314293', 'ScientificName': 'Simiiformes', 'Rank': 'infraorder'}, {'TaxId': '9526', 'ScientificName': 'Catarrhini', 'Rank': 'parvorder'}, {'TaxId': '314295', 'ScientificName': 'Hominoidea', 'Rank': 'superfamily'}, {'TaxId': '9604', 'ScientificName': 'Hominidae', 'Rank': 'family'}, {'TaxId': '207598', 'ScientificName': 'Homininae', 'Rank': 'subfamily'}, {'TaxId': '9605', 'ScientificName': 'Homo', 'Rank': 'genus'}], 'CreateDate': '1995/02/27 09:24:00', 'UpdateDate': '2021/09/24 13:17:40', 'PubDate': '1992/05/26 01:00:00'}]"
      ]
     },
     "execution_count": 224,
     "metadata": {},
     "output_type": "execute_result"
    }
   ],
   "source": [
    "record"
   ]
  },
  {
   "cell_type": "code",
   "execution_count": null,
   "metadata": {},
   "outputs": [],
   "source": [
    "first_result = record[0]\n",
    "\n",
    "# If we had multiple results, we could loop through them\n",
    "for result in record:\n",
    "    print(result['Lineage'])"
   ]
  },
  {
   "cell_type": "code",
   "execution_count": null,
   "metadata": {},
   "outputs": [],
   "source": [
    "print(first_result.keys())\n",
    "print(first_result.values())"
   ]
  },
  {
   "cell_type": "code",
   "execution_count": null,
   "metadata": {},
   "outputs": [],
   "source": [
    "print(first_result['ScientificName'])\n",
    "print(first_result['Lineage'])"
   ]
  },
  {
   "cell_type": "markdown",
   "metadata": {},
   "source": [
    "Cross ID search"
   ]
  },
  {
   "cell_type": "code",
   "execution_count": null,
   "metadata": {},
   "outputs": [],
   "source": [
    "# Use Elink to find the assemblies for this taxid \n",
    "\n",
    "handle = Entrez.elink(dbfrom=\"taxonomy\", db=\"assembly\", from_uid=taxid)\n",
    "links = Entrez.read(handle)\n",
    "\n",
    "# we are searching the \"assembly\" database using the tax id.  So we might get multiple results."
   ]
  },
  {
   "cell_type": "code",
   "execution_count": null,
   "metadata": {},
   "outputs": [],
   "source": [
    "# How many results did we get?\n",
    "len(links[0]['LinkSetDb'][0]['Link'] ) \n"
   ]
  },
  {
   "cell_type": "code",
   "execution_count": null,
   "metadata": {},
   "outputs": [],
   "source": [
    "# Let's look at the first result \n",
    "# (note that many databases are not 1:1)"
   ]
  },
  {
   "cell_type": "code",
   "execution_count": null,
   "metadata": {},
   "outputs": [],
   "source": [
    "assembly_id = links[0]['LinkSetDb'][0]['Link'][0]['Id']\n",
    "handle = Entrez.efetch(db=\"assembly\", id=assembly_id, retmode=\"xml\")\n",
    "record = Entrez.read(handle)\n",
    "print(record)"
   ]
  },
  {
   "cell_type": "markdown",
   "metadata": {},
   "source": [
    "Let’s use the taxid ID to search for other database entries, and once again select the first ID."
   ]
  },
  {
   "cell_type": "code",
   "execution_count": null,
   "metadata": {},
   "outputs": [],
   "source": [
    "handle = Entrez.elink(dbfrom=\"assembly\", db=\"nuccore\", from_uid=assembly_id)\n",
    "links = Entrez.read(handle)\n",
    "nuc_id = links[0]['LinkSetDb'][0]['Link'][0]['Id']\n",
    "handle = Entrez.efetch(db=\"nuccore\", id=nuc_id, retmode=\"xml\")\n",
    "record = Entrez.read(handle)\n",
    "print(record)"
   ]
  },
  {
   "cell_type": "markdown",
   "metadata": {},
   "source": [
    "You can refine your queries by selecting certain fields aswell. For example, this search looks for organisms with the human taxid, and filters on “RefSeq” entries and with the word “CYBB” in the record title."
   ]
  },
  {
   "cell_type": "code",
   "execution_count": null,
   "metadata": {},
   "outputs": [],
   "source": [
    "handle = Entrez.esearch(db=\"nuccore\", term=\"txid\"+str(taxid)+\"[Organism] AND refseq[filter] AND CYBB[title]\")\n",
    "record = Entrez.read(handle)\n",
    "nuc_id = record['IdList'][0]\n",
    "handle = Entrez.efetch(db=\"nuccore\", id=nuc_id, retmode=\"xml\")\n",
    "record = Entrez.read(handle)\n",
    "print(record)"
   ]
  },
  {
   "cell_type": "code",
   "execution_count": null,
   "metadata": {},
   "outputs": [],
   "source": [
    "len(record)"
   ]
  },
  {
   "cell_type": "markdown",
   "metadata": {},
   "source": [
    "## Functions challenge exercise"
   ]
  },
  {
   "cell_type": "code",
   "execution_count": null,
   "metadata": {},
   "outputs": [],
   "source": [
    "# Count vowels in a string\n",
    "string = \"hello, how are YOU today?\"\n"
   ]
  }
 ],
 "metadata": {
  "kernelspec": {
   "display_name": "Python 3",
   "language": "python",
   "name": "python3"
  },
  "language_info": {
   "codemirror_mode": {
    "name": "ipython",
    "version": 3
   },
   "file_extension": ".py",
   "mimetype": "text/x-python",
   "name": "python",
   "nbconvert_exporter": "python",
   "pygments_lexer": "ipython3",
   "version": "3.9.6"
  }
 },
 "nbformat": 4,
 "nbformat_minor": 2
}
