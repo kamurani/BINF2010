{
 "cells": [
  {
   "cell_type": "code",
   "execution_count": 1,
   "metadata": {},
   "outputs": [],
   "source": [
    "accession = \"NC_045512.2\""
   ]
  },
  {
   "cell_type": "code",
   "execution_count": 2,
   "metadata": {},
   "outputs": [],
   "source": [
    "import pandas as pd\n",
    "import numpy as np\n",
    "\n",
    "from Bio import SeqIO\n",
    "\n",
    "# Search NCBI database for accession and return GenBank record \n",
    "\n",
    "from Bio import Entrez\n",
    "Entrez.email = \"\" \n",
    "handle = Entrez.efetch(db=\"nucleotide\", id=accession, rettype=\"gb\", retmode=\"text\")\n",
    "record = SeqIO.read(handle, \"genbank\")\n",
    "handle.close()\n"
   ]
  },
  {
   "cell_type": "code",
   "execution_count": 5,
   "metadata": {},
   "outputs": [
    {
     "data": {
      "text/plain": [
       "SeqRecord(seq=Seq('ATTAAAGGTTTATACCTTCCCAGGTAACAAACCAACCAACTTTCGATCTCTTGT...AAA'), id='NC_045512.2', name='NC_045512', description='Severe acute respiratory syndrome coronavirus 2 isolate Wuhan-Hu-1, complete genome', dbxrefs=['BioProject:PRJNA485481'])"
      ]
     },
     "execution_count": 5,
     "metadata": {},
     "output_type": "execute_result"
    }
   ],
   "source": [
    "record"
   ]
  },
  {
   "cell_type": "code",
   "execution_count": 8,
   "metadata": {},
   "outputs": [],
   "source": [
    "sequence = record.seq"
   ]
  },
  {
   "cell_type": "code",
   "execution_count": 4,
   "metadata": {},
   "outputs": [
    {
     "data": {
      "text/plain": [
       "[SeqFeature(SimpleLocation(ExactPosition(0), ExactPosition(29903), strand=1), type='source', qualifiers=...),\n",
       " SeqFeature(SimpleLocation(ExactPosition(0), ExactPosition(265), strand=1), type=\"5'UTR\"),\n",
       " SeqFeature(SimpleLocation(ExactPosition(265), ExactPosition(21555), strand=1), type='gene', qualifiers=...),\n",
       " SeqFeature(CompoundLocation([SimpleLocation(ExactPosition(265), ExactPosition(13468), strand=1), SimpleLocation(ExactPosition(13467), ExactPosition(21555), strand=1)], 'join'), type='CDS', location_operator='join', qualifiers=...),\n",
       " SeqFeature(SimpleLocation(ExactPosition(265), ExactPosition(805), strand=1), type='mat_peptide', qualifiers=...),\n",
       " SeqFeature(SimpleLocation(ExactPosition(805), ExactPosition(2719), strand=1), type='mat_peptide', qualifiers=...),\n",
       " SeqFeature(SimpleLocation(ExactPosition(2719), ExactPosition(8554), strand=1), type='mat_peptide', qualifiers=...),\n",
       " SeqFeature(SimpleLocation(ExactPosition(8554), ExactPosition(10054), strand=1), type='mat_peptide', qualifiers=...),\n",
       " SeqFeature(SimpleLocation(ExactPosition(10054), ExactPosition(10972), strand=1), type='mat_peptide', qualifiers=...),\n",
       " SeqFeature(SimpleLocation(ExactPosition(10972), ExactPosition(11842), strand=1), type='mat_peptide', qualifiers=...),\n",
       " SeqFeature(SimpleLocation(ExactPosition(11842), ExactPosition(12091), strand=1), type='mat_peptide', qualifiers=...),\n",
       " SeqFeature(SimpleLocation(ExactPosition(12091), ExactPosition(12685), strand=1), type='mat_peptide', qualifiers=...),\n",
       " SeqFeature(SimpleLocation(ExactPosition(12685), ExactPosition(13024), strand=1), type='mat_peptide', qualifiers=...),\n",
       " SeqFeature(SimpleLocation(ExactPosition(13024), ExactPosition(13441), strand=1), type='mat_peptide', qualifiers=...),\n",
       " SeqFeature(CompoundLocation([SimpleLocation(ExactPosition(13441), ExactPosition(13468), strand=1), SimpleLocation(ExactPosition(13467), ExactPosition(16236), strand=1)], 'join'), type='mat_peptide', location_operator='join', qualifiers=...),\n",
       " SeqFeature(SimpleLocation(ExactPosition(16236), ExactPosition(18039), strand=1), type='mat_peptide', qualifiers=...),\n",
       " SeqFeature(SimpleLocation(ExactPosition(18039), ExactPosition(19620), strand=1), type='mat_peptide', qualifiers=...),\n",
       " SeqFeature(SimpleLocation(ExactPosition(19620), ExactPosition(20658), strand=1), type='mat_peptide', qualifiers=...),\n",
       " SeqFeature(SimpleLocation(ExactPosition(20658), ExactPosition(21552), strand=1), type='mat_peptide', qualifiers=...),\n",
       " SeqFeature(SimpleLocation(ExactPosition(265), ExactPosition(13483), strand=1), type='CDS', qualifiers=...),\n",
       " SeqFeature(SimpleLocation(ExactPosition(265), ExactPosition(805), strand=1), type='mat_peptide', qualifiers=...),\n",
       " SeqFeature(SimpleLocation(ExactPosition(805), ExactPosition(2719), strand=1), type='mat_peptide', qualifiers=...),\n",
       " SeqFeature(SimpleLocation(ExactPosition(2719), ExactPosition(8554), strand=1), type='mat_peptide', qualifiers=...),\n",
       " SeqFeature(SimpleLocation(ExactPosition(8554), ExactPosition(10054), strand=1), type='mat_peptide', qualifiers=...),\n",
       " SeqFeature(SimpleLocation(ExactPosition(10054), ExactPosition(10972), strand=1), type='mat_peptide', qualifiers=...),\n",
       " SeqFeature(SimpleLocation(ExactPosition(10972), ExactPosition(11842), strand=1), type='mat_peptide', qualifiers=...),\n",
       " SeqFeature(SimpleLocation(ExactPosition(11842), ExactPosition(12091), strand=1), type='mat_peptide', qualifiers=...),\n",
       " SeqFeature(SimpleLocation(ExactPosition(12091), ExactPosition(12685), strand=1), type='mat_peptide', qualifiers=...),\n",
       " SeqFeature(SimpleLocation(ExactPosition(12685), ExactPosition(13024), strand=1), type='mat_peptide', qualifiers=...),\n",
       " SeqFeature(SimpleLocation(ExactPosition(13024), ExactPosition(13441), strand=1), type='mat_peptide', qualifiers=...),\n",
       " SeqFeature(SimpleLocation(ExactPosition(13441), ExactPosition(13480), strand=1), type='mat_peptide', qualifiers=...),\n",
       " SeqFeature(SimpleLocation(ExactPosition(13475), ExactPosition(13503), strand=1), type='stem_loop', qualifiers=...),\n",
       " SeqFeature(SimpleLocation(ExactPosition(13487), ExactPosition(13542), strand=1), type='stem_loop', qualifiers=...),\n",
       " SeqFeature(SimpleLocation(ExactPosition(21562), ExactPosition(25384), strand=1), type='gene', qualifiers=...),\n",
       " SeqFeature(SimpleLocation(ExactPosition(21562), ExactPosition(25384), strand=1), type='CDS', qualifiers=...),\n",
       " SeqFeature(SimpleLocation(ExactPosition(25392), ExactPosition(26220), strand=1), type='gene', qualifiers=...),\n",
       " SeqFeature(SimpleLocation(ExactPosition(25392), ExactPosition(26220), strand=1), type='CDS', qualifiers=...),\n",
       " SeqFeature(SimpleLocation(ExactPosition(26244), ExactPosition(26472), strand=1), type='gene', qualifiers=...),\n",
       " SeqFeature(SimpleLocation(ExactPosition(26244), ExactPosition(26472), strand=1), type='CDS', qualifiers=...),\n",
       " SeqFeature(SimpleLocation(ExactPosition(26522), ExactPosition(27191), strand=1), type='gene', qualifiers=...),\n",
       " SeqFeature(SimpleLocation(ExactPosition(26522), ExactPosition(27191), strand=1), type='CDS', qualifiers=...),\n",
       " SeqFeature(SimpleLocation(ExactPosition(27201), ExactPosition(27387), strand=1), type='gene', qualifiers=...),\n",
       " SeqFeature(SimpleLocation(ExactPosition(27201), ExactPosition(27387), strand=1), type='CDS', qualifiers=...),\n",
       " SeqFeature(SimpleLocation(ExactPosition(27393), ExactPosition(27759), strand=1), type='gene', qualifiers=...),\n",
       " SeqFeature(SimpleLocation(ExactPosition(27393), ExactPosition(27759), strand=1), type='CDS', qualifiers=...),\n",
       " SeqFeature(SimpleLocation(ExactPosition(27755), ExactPosition(27887), strand=1), type='gene', qualifiers=...),\n",
       " SeqFeature(SimpleLocation(ExactPosition(27755), ExactPosition(27887), strand=1), type='CDS', qualifiers=...),\n",
       " SeqFeature(SimpleLocation(ExactPosition(27893), ExactPosition(28259), strand=1), type='gene', qualifiers=...),\n",
       " SeqFeature(SimpleLocation(ExactPosition(27893), ExactPosition(28259), strand=1), type='CDS', qualifiers=...),\n",
       " SeqFeature(SimpleLocation(ExactPosition(28273), ExactPosition(29533), strand=1), type='gene', qualifiers=...),\n",
       " SeqFeature(SimpleLocation(ExactPosition(28273), ExactPosition(29533), strand=1), type='CDS', qualifiers=...),\n",
       " SeqFeature(SimpleLocation(ExactPosition(29557), ExactPosition(29674), strand=1), type='gene', qualifiers=...),\n",
       " SeqFeature(SimpleLocation(ExactPosition(29557), ExactPosition(29674), strand=1), type='CDS', qualifiers=...),\n",
       " SeqFeature(SimpleLocation(ExactPosition(29608), ExactPosition(29644), strand=1), type='stem_loop', qualifiers=...),\n",
       " SeqFeature(SimpleLocation(ExactPosition(29628), ExactPosition(29657), strand=1), type='stem_loop', qualifiers=...),\n",
       " SeqFeature(SimpleLocation(ExactPosition(29674), ExactPosition(29903), strand=1), type=\"3'UTR\"),\n",
       " SeqFeature(SimpleLocation(ExactPosition(29727), ExactPosition(29768), strand=1), type='stem_loop', qualifiers=...)]"
      ]
     },
     "execution_count": 4,
     "metadata": {},
     "output_type": "execute_result"
    }
   ],
   "source": [
    "record.features "
   ]
  },
  {
   "cell_type": "code",
   "execution_count": 7,
   "metadata": {},
   "outputs": [
    {
     "data": {
      "text/plain": [
       "[SeqFeature(CompoundLocation([SimpleLocation(ExactPosition(265), ExactPosition(13468), strand=1), SimpleLocation(ExactPosition(13467), ExactPosition(21555), strand=1)], 'join'), type='CDS', location_operator='join', qualifiers=...),\n",
       " SeqFeature(SimpleLocation(ExactPosition(265), ExactPosition(13483), strand=1), type='CDS', qualifiers=...),\n",
       " SeqFeature(SimpleLocation(ExactPosition(21562), ExactPosition(25384), strand=1), type='CDS', qualifiers=...),\n",
       " SeqFeature(SimpleLocation(ExactPosition(25392), ExactPosition(26220), strand=1), type='CDS', qualifiers=...),\n",
       " SeqFeature(SimpleLocation(ExactPosition(26244), ExactPosition(26472), strand=1), type='CDS', qualifiers=...),\n",
       " SeqFeature(SimpleLocation(ExactPosition(26522), ExactPosition(27191), strand=1), type='CDS', qualifiers=...),\n",
       " SeqFeature(SimpleLocation(ExactPosition(27201), ExactPosition(27387), strand=1), type='CDS', qualifiers=...),\n",
       " SeqFeature(SimpleLocation(ExactPosition(27393), ExactPosition(27759), strand=1), type='CDS', qualifiers=...),\n",
       " SeqFeature(SimpleLocation(ExactPosition(27755), ExactPosition(27887), strand=1), type='CDS', qualifiers=...),\n",
       " SeqFeature(SimpleLocation(ExactPosition(27893), ExactPosition(28259), strand=1), type='CDS', qualifiers=...),\n",
       " SeqFeature(SimpleLocation(ExactPosition(28273), ExactPosition(29533), strand=1), type='CDS', qualifiers=...),\n",
       " SeqFeature(SimpleLocation(ExactPosition(29557), ExactPosition(29674), strand=1), type='CDS', qualifiers=...)]"
      ]
     },
     "execution_count": 7,
     "metadata": {},
     "output_type": "execute_result"
    }
   ],
   "source": [
    "## Parse features of GenBank entry and create GTF or GFF annotation file \n",
    "# that describes the genes and CDS of the virus. \n",
    "# Ignore all other types of features such as source, variation, intron, etc. \n",
    "\n",
    "# Create a list of all features that are either a gene or a CDS\n",
    "# and that have a gene name and a protein product name.\n",
    "\n",
    "features = []\n",
    "for feature in record.features:\n",
    "    if feature.type == \"gene\" or feature.type == \"CDS\":\n",
    "        if \"gene\" in feature.qualifiers and \"product\" in feature.qualifiers:\n",
    "            features.append(feature)\n",
    "\n",
    "features"
   ]
  },
  {
   "cell_type": "code",
   "execution_count": 14,
   "metadata": {},
   "outputs": [
    {
     "data": {
      "text/plain": [
       "[\"3'UTR\", 'source', 'mat_peptide', 'CDS', 'gene', \"5'UTR\", 'stem_loop']"
      ]
     },
     "execution_count": 14,
     "metadata": {},
     "output_type": "execute_result"
    }
   ],
   "source": [
    "all_feature_types = list(set([feature.type for feature in record.features]))\n",
    "all_feature_types"
   ]
  },
  {
   "cell_type": "code",
   "execution_count": 16,
   "metadata": {},
   "outputs": [
    {
     "ename": "AttributeError",
     "evalue": "'int' object has no attribute 'type'",
     "output_type": "error",
     "traceback": [
      "\u001b[0;31m---------------------------------------------------------------------------\u001b[0m",
      "\u001b[0;31mAttributeError\u001b[0m                            Traceback (most recent call last)",
      "\u001b[1;32m/home/cim/Tutoring/2023/REPO/BINF2010/assignment/retrieval.ipynb Cell 8\u001b[0m line \u001b[0;36m5\n\u001b[1;32m      <a href='vscode-notebook-cell:/home/cim/Tutoring/2023/REPO/BINF2010/assignment/retrieval.ipynb#X11sZmlsZQ%3D%3D?line=2'>3</a>\u001b[0m \u001b[39mwith\u001b[39;00m \u001b[39mopen\u001b[39m(\u001b[39m\"\u001b[39m\u001b[39msarscov2.gtf\u001b[39m\u001b[39m\"\u001b[39m, \u001b[39m\"\u001b[39m\u001b[39mw\u001b[39m\u001b[39m\"\u001b[39m) \u001b[39mas\u001b[39;00m f:\n\u001b[1;32m      <a href='vscode-notebook-cell:/home/cim/Tutoring/2023/REPO/BINF2010/assignment/retrieval.ipynb#X11sZmlsZQ%3D%3D?line=3'>4</a>\u001b[0m     \u001b[39mfor\u001b[39;00m feature \u001b[39min\u001b[39;00m features[\u001b[39m0\u001b[39m]:\n\u001b[0;32m----> <a href='vscode-notebook-cell:/home/cim/Tutoring/2023/REPO/BINF2010/assignment/retrieval.ipynb#X11sZmlsZQ%3D%3D?line=4'>5</a>\u001b[0m         f\u001b[39m.\u001b[39mwrite(\u001b[39mf\u001b[39m\u001b[39m\"\u001b[39m\u001b[39m{\u001b[39;00maccession\u001b[39m}\u001b[39;00m\u001b[39m\\t\u001b[39;00m\u001b[39m{\u001b[39;00mfeature\u001b[39m.\u001b[39mtype\u001b[39m}\u001b[39;00m\u001b[39m\\t\u001b[39;00m\u001b[39m{\u001b[39;00mfeature\u001b[39m.\u001b[39mlocation\u001b[39m.\u001b[39mstart\u001b[39m}\u001b[39;00m\u001b[39m\\t\u001b[39;00m\u001b[39m{\u001b[39;00mfeature\u001b[39m.\u001b[39mlocation\u001b[39m.\u001b[39mend\u001b[39m}\u001b[39;00m\u001b[39m\\t\u001b[39;00m\u001b[39m.\u001b[39m\u001b[39m\\t\u001b[39;00m\u001b[39m{\u001b[39;00mfeature\u001b[39m.\u001b[39mlocation\u001b[39m.\u001b[39mstrand\u001b[39m}\u001b[39;00m\u001b[39m\\t\u001b[39;00m\u001b[39m.\u001b[39m\u001b[39m\\t\u001b[39;00m\u001b[39m\"\u001b[39m)\n\u001b[1;32m      <a href='vscode-notebook-cell:/home/cim/Tutoring/2023/REPO/BINF2010/assignment/retrieval.ipynb#X11sZmlsZQ%3D%3D?line=5'>6</a>\u001b[0m         f\u001b[39m.\u001b[39mwrite(\u001b[39mf\u001b[39m\u001b[39m\"\u001b[39m\u001b[39mgene_id \u001b[39m\u001b[39m\\\"\u001b[39;00m\u001b[39m{\u001b[39;00mfeature\u001b[39m.\u001b[39mqualifiers[\u001b[39m'\u001b[39m\u001b[39mgene\u001b[39m\u001b[39m'\u001b[39m][\u001b[39m0\u001b[39m]\u001b[39m}\u001b[39;00m\u001b[39m\\\"\u001b[39;00m\u001b[39m; \u001b[39m\u001b[39m\"\u001b[39m)\n\u001b[1;32m      <a href='vscode-notebook-cell:/home/cim/Tutoring/2023/REPO/BINF2010/assignment/retrieval.ipynb#X11sZmlsZQ%3D%3D?line=6'>7</a>\u001b[0m         f\u001b[39m.\u001b[39mwrite(\u001b[39mf\u001b[39m\u001b[39m\"\u001b[39m\u001b[39mgene_name \u001b[39m\u001b[39m\\\"\u001b[39;00m\u001b[39m{\u001b[39;00mfeature\u001b[39m.\u001b[39mqualifiers[\u001b[39m'\u001b[39m\u001b[39mgene\u001b[39m\u001b[39m'\u001b[39m][\u001b[39m0\u001b[39m]\u001b[39m}\u001b[39;00m\u001b[39m\\\"\u001b[39;00m\u001b[39m; \u001b[39m\u001b[39m\"\u001b[39m)\n",
      "\u001b[0;31mAttributeError\u001b[0m: 'int' object has no attribute 'type'"
     ]
    }
   ],
   "source": [
    "# Output features in GTF format\n",
    "\n",
    "with open(\"sarscov2.gtf\", \"w\") as f:\n",
    "    for i, feature in enumerate(features):\n",
    "        f.write(f\"{accession}\\t{feature.type}\\t{feature.location.start}\\t{feature.location.end}\\t.\\t{feature.location.strand}\\t.\\t\")\n",
    "        f.write(f\"gene_id \\\"{feature.qualifiers['gene'][0]}\\\"; \")\n",
    "        f.write(f\"gene_name \\\"{feature.qualifiers['gene'][0]}\\\"; \")\n",
    "        f.write(f\"product \\\"{feature.qualifiers['product'][0]}\\\"; \")\n",
    "        f.write(\"\\n\")\n",
    "\n"
   ]
  }
 ],
 "metadata": {
  "kernelspec": {
   "display_name": "phosphosite",
   "language": "python",
   "name": "python3"
  },
  "language_info": {
   "codemirror_mode": {
    "name": "ipython",
    "version": 3
   },
   "file_extension": ".py",
   "mimetype": "text/x-python",
   "name": "python",
   "nbconvert_exporter": "python",
   "pygments_lexer": "ipython3",
   "version": "3.9.16"
  },
  "orig_nbformat": 4
 },
 "nbformat": 4,
 "nbformat_minor": 2
}
