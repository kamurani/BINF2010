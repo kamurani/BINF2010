{
 "cells": [
  {
   "attachments": {},
   "cell_type": "markdown",
   "metadata": {},
   "source": [
    "# Week 03: Data Viz"
   ]
  },
  {
   "cell_type": "code",
   "execution_count": null,
   "metadata": {},
   "outputs": [],
   "source": [
    "import numpy as np\n",
    "import pandas as pd\n",
    "import seaborn as sns\n",
    "import matplotlib.pyplot as plt"
   ]
  },
  {
   "cell_type": "code",
   "execution_count": null,
   "metadata": {},
   "outputs": [],
   "source": [
    "from palmerpenguins import load_penguins\n",
    "df = load_penguins()\n",
    "print(type(df))\n",
    "df"
   ]
  },
  {
   "cell_type": "code",
   "execution_count": null,
   "metadata": {},
   "outputs": [],
   "source": [
    "print(df.describe())\n",
    "print(df.dtypes)\n",
    "print(df.columns)"
   ]
  },
  {
   "attachments": {},
   "cell_type": "markdown",
   "metadata": {},
   "source": [
    "#### Indexing"
   ]
  },
  {
   "cell_type": "code",
   "execution_count": null,
   "metadata": {},
   "outputs": [],
   "source": [
    "print(df.values)\n",
    "i=1\n",
    "j=0\n",
    "print(df.loc[i])\n",
    "print(df.iloc[i,j])\n",
    "print(df[['bill_length_mm','island']])\n",
    "print(df.query(\"year > 2007\"))"
   ]
  },
  {
   "cell_type": "code",
   "execution_count": null,
   "metadata": {},
   "outputs": [],
   "source": [
    "df[0:2]"
   ]
  },
  {
   "cell_type": "code",
   "execution_count": null,
   "metadata": {},
   "outputs": [],
   "source": [
    "df.iloc[0,0]"
   ]
  },
  {
   "cell_type": "code",
   "execution_count": null,
   "metadata": {},
   "outputs": [],
   "source": [
    "# First row, access \"body mass g\" col\n",
    "df.loc[0].body_mass_g "
   ]
  },
  {
   "cell_type": "code",
   "execution_count": null,
   "metadata": {},
   "outputs": [],
   "source": [
    "columns = [\"species\", \"island\"] # using square brackets to represent a list\n",
    "\n",
    "df[columns][0:2]                # using square brackets for indexing"
   ]
  },
  {
   "cell_type": "code",
   "execution_count": null,
   "metadata": {},
   "outputs": [],
   "source": [
    "df.query(\"year > 2007\")\n",
    "\n",
    "\n",
    "# Multiple conditions\n",
    "df[(df.sex == \"female\") & (df.year > 2007)]"
   ]
  },
  {
   "attachments": {},
   "cell_type": "markdown",
   "metadata": {},
   "source": [
    "### Plotting"
   ]
  },
  {
   "cell_type": "code",
   "execution_count": null,
   "metadata": {},
   "outputs": [],
   "source": [
    "# X values\n",
    "x = [1,2,3]\n",
    "# Y values\n",
    "y = [4,5,6]     # automatically matches each (x,y) pair based on the same index.  \n",
    "\t\n",
    "# Plotting the points\n",
    "plt.plot(x, y)\n",
    "\t\n",
    "# Naming the X and Y axes\n",
    "plt.xlabel('x - axis')\n",
    "plt.ylabel('y - axis')\n",
    "\t\n",
    "# Adding a title\n",
    "plt.title('X-Y')\n",
    "\t\n",
    "# Showing the plot\n",
    "plt.show()"
   ]
  },
  {
   "cell_type": "code",
   "execution_count": null,
   "metadata": {},
   "outputs": [],
   "source": [
    "a = [1, 2, 3, 4, 5]\n",
    "b = [0, 0.6, 0.2, 15, 10, 8, 16, 21]\n",
    "plt.plot(a)\n",
    "# o is for circles\n",
    "plt.plot(b, \"o\")\n",
    "\n",
    "# Get current axes and plot the legend\n",
    "ax = plt.gca()\n",
    "ax.legend(['Line', 'Dots'])\n",
    "\n",
    "plt.show()"
   ]
  },
  {
   "cell_type": "code",
   "execution_count": null,
   "metadata": {},
   "outputs": [],
   "source": [
    "fig = plt.figure(figsize =(10, 5))\n",
    "sub1 = plt.subplot(2, 1, 1) # two plots, or 2 rows, one column, position 1\n",
    "sub2 = plt.subplot(2, 1, 2) # two plots, or 2 rows, one column, position 2\n",
    "sub1.plot(a, 'sb') # squares, blue\n",
    "sub1.annotate(\"Squares\", (1,1))\n",
    "sub2.plot(b, 'or') # circles, red\n",
    "sub2.annotate(\"Circles\", (1,1)) \n",
    "plt.show()"
   ]
  },
  {
   "attachments": {},
   "cell_type": "markdown",
   "metadata": {},
   "source": [
    "#### Seaborn plots"
   ]
  },
  {
   "cell_type": "code",
   "execution_count": null,
   "metadata": {},
   "outputs": [],
   "source": [
    "sns.histplot(df['island'],kde=True,bins=10, color=\"pink\")"
   ]
  },
  {
   "attachments": {},
   "cell_type": "markdown",
   "metadata": {},
   "source": [
    "#### Joint plots"
   ]
  },
  {
   "cell_type": "code",
   "execution_count": null,
   "metadata": {},
   "outputs": [],
   "source": [
    "sns.jointplot(data=df, x=\"bill_length_mm\", y=\"bill_depth_mm\", marginal_kws=dict(bins=20)) "
   ]
  },
  {
   "cell_type": "code",
   "execution_count": null,
   "metadata": {},
   "outputs": [],
   "source": [
    "sns.pairplot(df)"
   ]
  },
  {
   "cell_type": "code",
   "execution_count": null,
   "metadata": {},
   "outputs": [],
   "source": [
    "g = sns.boxplot(x = 'island',\n",
    "            y ='body_mass_g',\n",
    "            hue = 'species',    # can change this\n",
    "            data = df,\n",
    "            palette=['#FF8C00','#159090','#A034F0'],  # custom, could use inbuilt ones\n",
    "            linewidth=0.3)\n",
    "g.set_xlabel('Island')\n",
    "g.set_ylabel('Body Mass')\n",
    "plt.show() \n",
    "\n",
    "\n",
    "# note how before we provided \"x\" and \"y\" as actual columns from the df (e.g. `df.island`)\n",
    "# but now we give the dataframe as a 'data' argument and separately provide the names\n",
    "# of the columns we want to use as our x and y (columns given as *strings*)"
   ]
  },
  {
   "cell_type": "code",
   "execution_count": null,
   "metadata": {},
   "outputs": [],
   "source": [
    "g = sns.lmplot(x=\"flipper_length_mm\",\n",
    "               y=\"body_mass_g\",\n",
    "               hue=\"species\",\n",
    "               height=7,\n",
    "               data=df,\n",
    "               palette=['#FF8C00','#159090','#A034F0'])\n",
    "g.set_xlabels('Flipper Length')\n",
    "g.set_ylabels('Body Mass')\n",
    "plt.show() \n",
    "\n",
    "# remember, we can change the plotting of colours just by passing another name of a column, \n",
    "# because we are giving all the data as `df`"
   ]
  },
  {
   "attachments": {},
   "cell_type": "markdown",
   "metadata": {},
   "source": [
    "#### Multiple figures"
   ]
  },
  {
   "cell_type": "code",
   "execution_count": null,
   "metadata": {},
   "outputs": [],
   "source": [
    "import matplotlib.pyplot as pltt\n",
    "fig ,ax = pltt.subplots(figsize=(15,12), ncols=2,nrows=2) # make a 2x2 grid\n",
    "sns.swarmplot(data=df,x='species',y='body_mass_g',ax=ax[0,0], hue='species') \n",
    "sns.violinplot(data=df,x='species',y='body_mass_g',ax=ax[0,1])\n",
    "sns.boxplot(data=df,x='species',y='body_mass_g',ax=ax[1,0])\n",
    "sns.barplot(data=df,x='species',y='body_mass_g',ax=ax[1,1])\n",
    "pltt.show()"
   ]
  },
  {
   "attachments": {},
   "cell_type": "markdown",
   "metadata": {},
   "source": [
    "### Saving file"
   ]
  },
  {
   "cell_type": "code",
   "execution_count": null,
   "metadata": {},
   "outputs": [],
   "source": [
    "df.to_csv?"
   ]
  },
  {
   "cell_type": "code",
   "execution_count": null,
   "metadata": {},
   "outputs": [],
   "source": [
    "df.to_csv(\"my_penguins.csv\")\n",
    "df_pengiuns = pd.read_csv(\"my_penguins.csv\")\n",
    "df_pengiuns.head()"
   ]
  },
  {
   "cell_type": "code",
   "execution_count": null,
   "metadata": {},
   "outputs": [],
   "source": [
    "df.to_csv(\"my_penguins.tsv\", sep=\"\\t\") # tab character as delimiter"
   ]
  },
  {
   "attachments": {},
   "cell_type": "markdown",
   "metadata": {},
   "source": [
    "#### Test yourself"
   ]
  },
  {
   "cell_type": "code",
   "execution_count": null,
   "metadata": {},
   "outputs": [],
   "source": [
    "# load iris dataset \n",
    "iris = sns.load_dataset(\"iris\")\n",
    "iris[0:2]"
   ]
  },
  {
   "cell_type": "code",
   "execution_count": null,
   "metadata": {},
   "outputs": [],
   "source": [
    "# 1. Distributon plot of petal_length \n",
    "sns.histplot(\n",
    "    data=iris,\n",
    "    x=\"sepal_width\",\n",
    "    kde=True,\n",
    ")"
   ]
  },
  {
   "cell_type": "code",
   "execution_count": null,
   "metadata": {},
   "outputs": [],
   "source": [
    "# Pairplot between all variables\n",
    "sns.pairplot(iris)"
   ]
  },
  {
   "cell_type": "code",
   "execution_count": null,
   "metadata": {},
   "outputs": [],
   "source": [
    "list(iris.columns)"
   ]
  },
  {
   "cell_type": "code",
   "execution_count": null,
   "metadata": {},
   "outputs": [],
   "source": [
    "\n",
    "fig ,ax = pltt.subplots(figsize=(15,12), ncols=2,nrows=2)\n",
    "sns.swarmplot(data=iris,x='species',y='petal_length',ax=ax[0,0],hue='species')\n",
    "sns.violinplot(data=iris,x='species',y='petal_length',ax=ax[0,1], hue=\"species\")\n",
    "sns.boxplot(data=iris,x='species',y='petal_length',ax=ax[1,0], hue=\"species\")\n",
    "sns.barplot(data=iris,x='species',y='petal_length',ax=ax[1,1], hue=\"species\")\n",
    "pltt.show()"
   ]
  }
 ],
 "metadata": {
  "kernelspec": {
   "display_name": "Python 3",
   "language": "python",
   "name": "python3"
  },
  "language_info": {
   "codemirror_mode": {
    "name": "ipython",
    "version": 3
   },
   "file_extension": ".py",
   "mimetype": "text/x-python",
   "name": "python",
   "nbconvert_exporter": "python",
   "pygments_lexer": "ipython3",
   "version": "3.9.6 (default, Oct 18 2022, 12:41:40) \n[Clang 14.0.0 (clang-1400.0.29.202)]"
  },
  "orig_nbformat": 4,
  "vscode": {
   "interpreter": {
    "hash": "31f2aee4e71d21fbe5cf8b01ff0e069b9275f58929596ceb00d14d90e3e16cd6"
   }
  }
 },
 "nbformat": 4,
 "nbformat_minor": 2
}
